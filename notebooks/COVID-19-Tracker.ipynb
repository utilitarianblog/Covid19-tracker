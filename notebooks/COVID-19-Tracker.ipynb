# COVID-19 Global Data Tracker
# Project Overview
# Analyzing global COVID-19 trends using data from Our World in Data.

# 1. Import Libraries
import pandas as pd
import matplotlib.pyplot as plt
import seaborn as sns
import plotly.express as px

# Set visualization style
plt.style.use('seaborn-darkgrid')

# 2. Data Loading
print("Loading COVID-19 data...")
data_path = 'data/owid-covid-data.csv'
df = pd.read_csv(data_path)

# Display basic information
print("Data Shape:", df.shape)
print("Columns in the Dataset:")
print(df.columns)

# Check for missing values
print("\nMissing Values:")
print(df.isnull().sum().sort_values(ascending=False))

# Preview the first 5 rows
print("\nData Preview:")
print(df.head())

# 3. Data Cleaning & Preparation
print("\nCleaning and preparing data...")
# Filter for selected countries
countries = ['Nigeria', 'United States', 'India']
df_filtered = df[df['location'].isin(countries)].copy()

# Convert 'date' column to datetime
df_filtered['date'] = pd.to_datetime(df_filtered['date'])

# Fill missing numeric values
df_filtered.fillna(method='ffill', inplace=True)
df_filtered.fillna(0, inplace=True)

# Check the cleaned data
print("\nCleaned Data Preview:")
print(df_filtered.head())

# 4. Exploratory Data Analysis (EDA)

# Plot total cases over time for selected countries
plt.figure(figsize=(12, 6))
for country in countries:
    country_data = df_filtered[df_filtered['location'] == country]
    plt.plot(country_data['date'], country_data['total_cases'], label=country)

plt.title('Total COVID-19 Cases Over Time')
plt.xlabel('Date')
plt.ylabel('Total Cases')
plt.legend()
plt.show()

# Plot daily new cases
plt.figure(figsize=(12, 6))
for country in countries:
    country_data = df_filtered[df_filtered['location'] == country]
    plt.plot(country_data['date'], country_data['new_cases'], label=country)

plt.title('Daily New COVID-19 Cases')
plt.xlabel('Date')
plt.ylabel('New Cases')
plt.legend()
plt.show()

# Calculate and plot the death rate
df_filtered['death_rate'] = df_filtered['total_deaths'] / df_filtered['total_cases'] * 100

plt.figure(figsize=(12, 6))
for country in countries:
    country_data = df_filtered[df_filtered['location'] == country]
    plt.plot(country_data['date'], country_data['death_rate'], label=country)

plt.title('COVID-19 Death Rate Over Time')
plt.xlabel('Date')
plt.ylabel('Death Rate (%)')
plt.legend()
plt.show()

# 5. Vaccination Progress Analysis

# Plot cumulative vaccinations over time
plt.figure(figsize=(12, 6))
for country in countries:
    country_data = df_filtered[df_filtered['location'] == country]
    plt.plot(country_data['date'], country_data['total_vaccinations'], label=country)

plt.title('Cumulative COVID-19 Vaccinations')
plt.xlabel('Date')
plt.ylabel('Total Vaccinations')
plt.legend()
plt.show()

# 6. Choropleth Map (Optional)

print("\nGenerating Choropleth Map...")
latest_data = df[df['date'] == df['date'].max()]
fig = px.choropleth(latest_data,
                    locations="iso_code",
                    color="total_cases",
                    hover_name="location",
                    title="Global COVID-19 Total Cases",
                    color_continuous_scale=px.colors.sequential.Plasma)
fig.show()

# 7. Insights & Reporting

print("\nKey Insights:")
print("1. Nigeria had significantly fewer cases compared to India and the United States.")
print("2. The United States had the highest number of cases, but vaccination rollout was quicker.")
print("3. India saw a rapid increase in cases during mid-2021, particularly between April and May.")
print("4. Death rates varied significantly, with early surges in some countries.")
print("5. Vaccination coverage remains uneven across the selected countries.")

print("\nAnalysis Complete.")
