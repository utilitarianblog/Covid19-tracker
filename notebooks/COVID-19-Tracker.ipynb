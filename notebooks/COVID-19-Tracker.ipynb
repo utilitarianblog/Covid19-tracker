# COVID-19 Global Data Tracker

## Project Overview
In this project, we will analyze global COVID-19 trends using data from **Our World in Data**. We'll explore metrics such as cases, deaths, recoveries, and vaccinations across multiple countries.

---

## 1. Data Loading & Initial Exploration

Let's start by loading the dataset and exploring its structure.

```python
# Import necessary libraries
import pandas as pd
import matplotlib.pyplot as plt
import seaborn as sns
import plotly.express as px

# Load the data
data_path = 'data/owid-covid-data.csv'
df = pd.read_csv(data_path)

# Preview the data
print("Data Shape:", df.shape)
print("\nColumns in the Dataset:")
print(df.columns)

# Check for missing values
missing_values = df.isnull().sum()
print("\nMissing Values:")
print(missing_values[missing_values > 0].sort_values(ascending=False))

# Display the first 5 rows
df.head()
