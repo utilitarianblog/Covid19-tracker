# COVID-19 Global Data Tracker

## Project Overview
This notebook provides a comprehensive analysis of global COVID-19 trends using data from **Our World in Data**. It covers data loading, cleaning, exploratory data analysis (EDA), and visualization to track cases, deaths, and vaccinations over time across multiple countries.

---

## 1. Data Loading & Initial Exploration

```python
import pandas as pd
import matplotlib.pyplot as plt
import seaborn as sns
import plotly.express as px

# Load the data
data_path = '../data/owid-covid-data.csv'
df = pd.read_csv(data_path)

# Preview the data
print("Data Shape:", df.shape)
print("\nColumns in the Dataset:")
print(df.columns)

# Check for missing values
missing_values = df.isnull().sum()
print("\nMissing Values:")
print(missing_values[missing_values > 0].sort_values(ascending=False))

# Display the first 5 rows
df.head()
```

---

## 2. Data Cleaning & Preparation

```python
# Focus on selected countries
countries = ['Nigeria', 'United States', 'India']
df_filtered = df[df['location'].isin(countries)].copy()

# Convert 'date' column to datetime
df_filtered['date'] = pd.to_datetime(df_filtered['date'])

# Fill missing numeric values
df_filtered.fillna(method='ffill', inplace=True)
df_filtered.fillna(0, inplace=True)

# Check the cleaned data
print("\nCleaned Data Preview:")
print(df_filtered.head())
```

---

## 3. Exploratory Data Analysis (EDA)

### 3.1 Total Cases Over Time

```python
plt.figure(figsize=(14, 8))
for country in countries:
    country_data = df_filtered[df_filtered['location'] == country]
    plt.plot(country_data['date'], country_data['total_cases'], label=country)

plt.title('Total COVID-19 Cases Over Time')
plt.xlabel('Date')
plt.ylabel('Total Cases')
plt.legend()
plt.show()
```

### 3.2 Daily New Cases

```python
plt.figure(figsize=(14, 8))
for country in countries:
    country_data = df_filtered[df_filtered['location'] == country]
    plt.plot(country_data['date'], country_data['new_cases'], label=country)

plt.title('Daily New COVID-19 Cases')
plt.xlabel('Date')
plt.ylabel('New Cases')
plt.legend()
plt.show()
```

### 3.3 Death Rate Analysis

```python
df_filtered['death_rate'] = df_filtered['total_deaths'] / df_filtered['total_cases'] * 100

plt.figure(figsize=(14, 8))
for country in countries:
    country_data = df_filtered[df_filtered['location'] == country]
    plt.plot(country_data['date'], country_data['death_rate'], label=country)

plt.title('COVID-19 Death Rates Over Time')
plt.xlabel('Date')
plt.ylabel('Death Rate (%)')
plt.legend()
plt.show()
```

---

## 4. Vaccination Progress Analysis

### 4.1 Cumulative Vaccinations

```python
plt.figure(figsize=(14, 8))
for country in countries:
    country_data = df_filtered[df_filtered['location'] == country]
    plt.plot(country_data['date'], country_data['total_vaccinations'], label=country)

plt.title('Cumulative COVID-19 Vaccinations')
plt.xlabel('Date')
plt.ylabel('Total Vaccinations')
plt.legend()
plt.show()
```

---

## 5. Choropleth Map (Optional)

```python
latest_data = df[df['date'] == df['date'].max()]

fig = px.choropleth(latest_data, 
                    locations="iso_code", 
                    color="total_cases", 
                    hover_name="location", 
                    title="Global COVID-19 Total Cases",
                    color_continuous_scale=px.colors.sequential.Plasma)

fig.show()
```

---

## 6. Insights and Narrative

### Key Insights:
1. **Nigeria** had a significantly lower number of cases compared to **India** and the **United States** but experienced a higher death rate in the earlier months.
2. **The United States** managed to vaccinate a large portion of the population, but it still experienced high numbers of new cases during certain periods.
3. **India** saw a rapid surge in cases in mid-2021, especially in **April-May**.

---

## 7. Conclusion and Future Work

This analysis provides an overview of global COVID-19 trends. Further work can include:
- **Machine learning** to predict future cases.
- **Interactive dashboards** using **Streamlit** or **Dash**.
- **Regional-level analysis** of vaccination rates.
